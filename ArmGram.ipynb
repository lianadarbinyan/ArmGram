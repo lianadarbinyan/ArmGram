{
 "cells": [
  {
   "cell_type": "code",
   "execution_count": 1,
   "id": "5710470c",
   "metadata": {},
   "outputs": [],
   "source": [
    "from all_in_one import all_in_one"
   ]
  },
  {
   "cell_type": "code",
   "execution_count": 2,
   "id": "967d1d88",
   "metadata": {},
   "outputs": [],
   "source": [
    "text = 'դուկ օվ եք'"
   ]
  },
  {
   "cell_type": "code",
   "execution_count": 2,
   "id": "148f7adc",
   "metadata": {},
   "outputs": [],
   "source": [
    "text = 'մեղրի որ հիմնական սա բաղադրիչը յուրացվող ածխաջրերն սա են՝ որ խաղոաշաքարն, սա ու պտղաշաքարը որոնց պարունակությունը որ հասում է, ինչի շնորհիվ որ մեղրը սա հեշտ է որ մարսվում։ մեղրի որ կարևոր բաղադրամասերից են որ օրգանական թթուները նաև բուժիչ հատկություն ունի'\n"
   ]
  },
  {
   "cell_type": "code",
   "execution_count": 3,
   "id": "9553cefd",
   "metadata": {},
   "outputs": [],
   "source": [
    "alls = all_in_one(text)"
   ]
  },
  {
   "cell_type": "code",
   "execution_count": 4,
   "id": "de1f4eab",
   "metadata": {
    "scrolled": false
   },
   "outputs": [
    {
     "name": "stdout",
     "output_type": "stream",
     "text": [
      "['Միգուցե նկատի ունեք՝', \"Ցավոք 'Դուկ' բառը բառարանում առկա չէ։\", \"Ցավոք 'օվ' բառը բառարանում առկա չէ։\", \"Ցավոք 'եք' բառը բառարանում առկա չէ։\"]\n",
      "[]\n",
      "[]\n",
      "[]\n"
     ]
    },
    {
     "data": {
      "text/plain": [
       "'Դուկ օվ եք։ '"
      ]
     },
     "execution_count": 4,
     "metadata": {},
     "output_type": "execute_result"
    }
   ],
   "source": [
    "alls.all_methods()"
   ]
  },
  {
   "cell_type": "code",
   "execution_count": 22,
   "id": "ee39714f",
   "metadata": {},
   "outputs": [
    {
     "data": {
      "text/plain": [
       "'մեղրի որ հիմնական սա բաղադրիչը յուրացվող ածխաջրերն սա են՝ որ խաղոաշաքարն, սա ու պտղաշաքարը որոնց պարունակությունը որ հասում է, ինչի շնորհիվ որ մեղրը հեշտ է որ մարսվում։ մեղրի որ կարևոր բաղադրամասերից են որ օրգանական թթուները նաև բուժիչ հատկություն ունի'"
      ]
     },
     "execution_count": 22,
     "metadata": {},
     "output_type": "execute_result"
    }
   ],
   "source": [
    "alls.text"
   ]
  },
  {
   "cell_type": "code",
   "execution_count": 6,
   "id": "bc851132",
   "metadata": {},
   "outputs": [
    {
     "data": {
      "text/plain": [
       "['խաղոաշաքարն,', 'մեղրի,']"
      ]
     },
     "execution_count": 6,
     "metadata": {},
     "output_type": "execute_result"
    }
   ],
   "source": [
    "alls.wrongs"
   ]
  },
  {
   "cell_type": "code",
   "execution_count": null,
   "id": "1bfeabd3",
   "metadata": {},
   "outputs": [],
   "source": []
  },
  {
   "cell_type": "code",
   "execution_count": null,
   "id": "9db2895e",
   "metadata": {},
   "outputs": [],
   "source": []
  }
 ],
 "metadata": {
  "kernelspec": {
   "display_name": "Python 3",
   "language": "python",
   "name": "python3"
  },
  "language_info": {
   "codemirror_mode": {
    "name": "ipython",
    "version": 3
   },
   "file_extension": ".py",
   "mimetype": "text/x-python",
   "name": "python",
   "nbconvert_exporter": "python",
   "pygments_lexer": "ipython3",
   "version": "3.8.8"
  }
 },
 "nbformat": 4,
 "nbformat_minor": 5
}
